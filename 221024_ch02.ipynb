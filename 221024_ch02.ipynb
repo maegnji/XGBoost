{
  "nbformat": 4,
  "nbformat_minor": 0,
  "metadata": {
    "colab": {
      "provenance": [],
      "collapsed_sections": [],
      "authorship_tag": "ABX9TyOlxVVUglJqtcqRHiNj/OJt",
      "include_colab_link": true
    },
    "kernelspec": {
      "name": "python3",
      "display_name": "Python 3"
    },
    "language_info": {
      "name": "python"
    }
  },
  "cells": [
    {
      "cell_type": "markdown",
      "metadata": {
        "id": "view-in-github",
        "colab_type": "text"
      },
      "source": [
        "<a href=\"https://colab.research.google.com/github/maegnji/XGBoost/blob/main/221024_ch02.ipynb\" target=\"_parent\"><img src=\"https://colab.research.google.com/assets/colab-badge.svg\" alt=\"Open In Colab\"/></a>"
      ]
    },
    {
      "cell_type": "code",
      "execution_count": 1,
      "metadata": {
        "colab": {
          "base_uri": "https://localhost:8080/"
        },
        "id": "iTRHvNWCBi3I",
        "outputId": "b5f9ce8c-a7ae-4d3a-b5ad-6765dea1c0eb"
      },
      "outputs": [
        {
          "output_type": "stream",
          "name": "stdout",
          "text": [
            "Mounted at /content/drive\n"
          ]
        }
      ],
      "source": [
        "  from google.colab import drive\n",
        "drive.mount('/content/drive')"
      ]
    },
    {
      "cell_type": "code",
      "source": [
        "# 경로 설정 (공백있을시에 앞에 \\필요)\n",
        "%cd /content/drive/MyDrive/python/XGBoost/Chapter02"
      ],
      "metadata": {
        "colab": {
          "base_uri": "https://localhost:8080/"
        },
        "id": "RgQpjvCNBmma",
        "outputId": "256e653e-2419-4400-835e-1aa82ab05590"
      },
      "execution_count": 2,
      "outputs": [
        {
          "output_type": "stream",
          "name": "stdout",
          "text": [
            "/content/drive/MyDrive/python/XGBoost/Chapter02\n"
          ]
        }
      ]
    },
    {
      "cell_type": "code",
      "source": [
        "import pandas as pd\n",
        "import numpy as np\n",
        "import warnings\n",
        "warnings.filterwarnings('ignore')"
      ],
      "metadata": {
        "id": "7TprgfjtCgAf"
      },
      "execution_count": 3,
      "outputs": []
    },
    {
      "cell_type": "code",
      "source": [
        "df_census = pd.read_csv('census_cleaned.csv')"
      ],
      "metadata": {
        "id": "TvgN4HzvCoM9"
      },
      "execution_count": 4,
      "outputs": []
    },
    {
      "cell_type": "code",
      "source": [
        "x = df_census.iloc[:,:-1]\n",
        "y = df_census.iloc[:,-1]"
      ],
      "metadata": {
        "id": "O6xUJMIIk8TL"
      },
      "execution_count": 5,
      "outputs": []
    },
    {
      "cell_type": "code",
      "source": [
        "from sklearn.model_selection import train_test_split\n",
        "x_train, x_test, y_train, y_test = train_test_split(x, y, random_state=2)"
      ],
      "metadata": {
        "id": "qYMJbwl_lD5n"
      },
      "execution_count": 6,
      "outputs": []
    },
    {
      "cell_type": "code",
      "source": [
        "# accuracy_score()는 맞는횟수 / 전체횟수\n",
        "from sklearn.tree import DecisionTreeClassifier\n",
        "from sklearn.metrics import accuracy_score"
      ],
      "metadata": {
        "id": "UJDrKj0alXVp"
      },
      "execution_count": 7,
      "outputs": []
    },
    {
      "cell_type": "code",
      "source": [
        "# 로지스틱회귀분석과 비슷하게 해주기 위하여 random_state=2로 세팅\n",
        "clf = DecisionTreeClassifier(random_state=2)"
      ],
      "metadata": {
        "id": "Pgmj-DdWlhmh"
      },
      "execution_count": 8,
      "outputs": []
    },
    {
      "cell_type": "code",
      "source": [
        "clf.fit(x_train, y_train)"
      ],
      "metadata": {
        "colab": {
          "base_uri": "https://localhost:8080/"
        },
        "id": "V-aJo3d2l0OL",
        "outputId": "bd050cef-6674-46a2-8fc6-1576962a7cb7"
      },
      "execution_count": 9,
      "outputs": [
        {
          "output_type": "execute_result",
          "data": {
            "text/plain": [
              "DecisionTreeClassifier(random_state=2)"
            ]
          },
          "metadata": {},
          "execution_count": 9
        }
      ]
    },
    {
      "cell_type": "code",
      "source": [
        "y_pred = clf.predict(x_test)"
      ],
      "metadata": {
        "id": "pEOlKLQkl3HE"
      },
      "execution_count": 10,
      "outputs": []
    },
    {
      "cell_type": "code",
      "source": [
        "# 동일한 데이터셋으로 1장에서 로지스틱 회귀의 정확도와 거의 비슷함\n",
        "accuracy_score(y_pred, y_test)"
      ],
      "metadata": {
        "colab": {
          "base_uri": "https://localhost:8080/"
        },
        "id": "vXtgu44Gl6Au",
        "outputId": "1657d6f4-7ee2-4810-f03b-4c0a4c392179"
      },
      "execution_count": 11,
      "outputs": [
        {
          "output_type": "execute_result",
          "data": {
            "text/plain": [
              "0.8131679154894976"
            ]
          },
          "metadata": {},
          "execution_count": 11
        }
      ]
    },
    {
      "cell_type": "markdown",
      "source": [
        "## 2.4.1 결정 트리 회귀 모델"
      ],
      "metadata": {
        "id": "zHtkJIOprC4J"
      }
    },
    {
      "cell_type": "code",
      "source": [
        "df_bikes = pd.read_csv('bike_rentals_cleaned.csv')\n",
        "x_bikes = df_bikes.iloc[:,:-1]\n",
        "y_bikes = df_bikes.iloc[:,-1]\n",
        "from sklearn.linear_model import LinearRegression\n",
        "x_train, x_test, y_train, y_test = train_test_split(x_bikes, y_bikes, random_state=2)"
      ],
      "metadata": {
        "id": "H0PVhzSLrFgj"
      },
      "execution_count": 13,
      "outputs": []
    },
    {
      "cell_type": "code",
      "source": [
        "# DecisionTreeRegressor, cross_val_score import\n",
        "from sklearn.tree import DecisionTreeRegressor\n",
        "from sklearn.model_selection import cross_val_score"
      ],
      "metadata": {
        "id": "JU278Xj7rgL0"
      },
      "execution_count": 16,
      "outputs": []
    },
    {
      "cell_type": "code",
      "source": [
        "# DecisionTreeRegressor 객체 만든 뒤 cross_val_score로 모델 평가\n",
        "reg = DecisionTreeRegressor(random_state = 2)\n",
        "scores = cross_val_score(reg, x_bikes, y_bikes, scoring = 'neg_mean_squared_error', cv=5)"
      ],
      "metadata": {
        "id": "0xeXeCDercK2"
      },
      "execution_count": 19,
      "outputs": []
    },
    {
      "cell_type": "code",
      "source": [
        "rmse = np.sqrt(-scores)\n",
        "print('RMSE 평균 : %0.2f' % (rmse.mean()))\n",
        "# RMSE 가 너무 크게나온다! -> 과대적합됐는지 확인 필요!"
      ],
      "metadata": {
        "colab": {
          "base_uri": "https://localhost:8080/"
        },
        "id": "YR26M01ksHyN",
        "outputId": "0db45b6d-90c1-4c71-c426-9d662aea5960"
      },
      "execution_count": 20,
      "outputs": [
        {
          "output_type": "stream",
          "name": "stdout",
          "text": [
            "RMSE 평균 : 1233.36\n"
          ]
        }
      ]
    },
    {
      "cell_type": "code",
      "source": [
        "# 테스트 세트에 대한 예측 전, 훈련 세트의 성능 확인!\n",
        "# 0이 나온다는건 모든 데이터를 정확하게 맞췄다는 것임!! -> 과대적합!\n",
        "reg = DecisionTreeRegressor()\n",
        "reg.fit(x_train, y_train)\n",
        "y_pred = reg.predict(x_train)\n",
        "from sklearn.metrics import mean_squared_error\n",
        "reg_mse = mean_squared_error(y_train, y_pred)\n",
        "reg_rmse = np.sqrt(reg_mse)\n",
        "reg_rmse"
      ],
      "metadata": {
        "colab": {
          "base_uri": "https://localhost:8080/"
        },
        "id": "WygJO_tpsZu9",
        "outputId": "fddc1bc0-20ac-47a4-a4b1-f5b28fcc27dd"
      },
      "execution_count": 23,
      "outputs": [
        {
          "output_type": "execute_result",
          "data": {
            "text/plain": [
              "0.0"
            ]
          },
          "metadata": {},
          "execution_count": 23
        }
      ]
    },
    {
      "cell_type": "code",
      "source": [
        "# 리프 노드의 샘플 개수를 확인해보자!\n",
        "# 훈련된 reg객체의 tree_ 속성에 훈련한 트리 객체가 저장되어 있음!\n",
        "# 전체 샘플은 548개인데, 리프노드가 547이라는 말은 너무 과대적합됨!!\n",
        "leaf_node_count = 0\n",
        "tree = reg.tree_\n",
        "for i in range(tree.node_count):\n",
        "  if (tree.children_left[i] == -1) and (tree.children_right[i] == -1):\n",
        "    leaf_node_count += 1\n",
        "    if tree.n_node_samples[i] > 1:\n",
        "      print('노드 인덱스 :', i, ', 샘플 개수 :', tree.n_node_samples[i])\n",
        "print('전체 리프 노드 개수:', leaf_node_count)"
      ],
      "metadata": {
        "colab": {
          "base_uri": "https://localhost:8080/"
        },
        "id": "iY5faFLWtCUI",
        "outputId": "7b58ed95-fb35-4857-ff97-db7b4731586c"
      },
      "execution_count": 24,
      "outputs": [
        {
          "output_type": "stream",
          "name": "stdout",
          "text": [
            "노드 인덱스 : 124 , 샘플 개수 : 2\n",
            "전체 리프 노드 개수: 547\n"
          ]
        }
      ]
    }
  ]
}